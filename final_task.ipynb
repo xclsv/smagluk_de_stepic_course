{
 "cells": [
  {
   "cell_type": "code",
   "execution_count": 24,
   "metadata": {},
   "outputs": [],
   "source": [
    "from pyspark.sql import SparkSession\n",
    "from pyspark.sql.functions import to_date"
   ]
  },
  {
   "cell_type": "code",
   "execution_count": 6,
   "metadata": {},
   "outputs": [
    {
     "name": "stdout",
     "output_type": "stream",
     "text": [
      "root\n",
      " |-- ip: string (nullable = true)\n",
      " |-- timestamp: timestamp (nullable = true)\n",
      " |-- method: string (nullable = true)\n",
      " |-- url: string (nullable = true)\n",
      " |-- response_code: integer (nullable = true)\n",
      " |-- response_size: integer (nullable = true)\n",
      "\n"
     ]
    }
   ],
   "source": [
    "# Создание SparkSession\n",
    "spark = SparkSession.builder.appName(\"task2\").getOrCreate()\n",
    "\n",
    "# Чтение CSV-файла\n",
    "df = spark.read.csv(\"data/web_server_logs.csv\", header=True, inferSchema=True)\n",
    "\n",
    "# Печать схемы DataFrame - посмотреть тип данных каждого поля\n",
    "df.printSchema()"
   ]
  },
  {
   "cell_type": "code",
   "execution_count": 17,
   "metadata": {},
   "outputs": [
    {
     "name": "stdout",
     "output_type": "stream",
     "text": [
      "+--------------+-----+\n",
      "|            ip|count|\n",
      "+--------------+-----+\n",
      "| 84.110.150.96|    1|\n",
      "|  35.86.159.55|    1|\n",
      "|  154.51.8.106|    1|\n",
      "| 51.91.105.183|    1|\n",
      "|  41.76.85.247|    1|\n",
      "|124.91.185.145|    1|\n",
      "| 18.99.184.134|    1|\n",
      "| 118.133.99.44|    1|\n",
      "| 15.122.239.22|    1|\n",
      "| 46.249.233.40|    1|\n",
      "+--------------+-----+\n",
      "only showing top 10 rows\n",
      "\n"
     ]
    }
   ],
   "source": [
    "df.\\\n",
    "    groupBy(\"ip\").\\\n",
    "    count().\\\n",
    "    orderBy(\"count\", ascending=False).\\\n",
    "    show(10)"
   ]
  },
  {
   "cell_type": "code",
   "execution_count": 18,
   "metadata": {},
   "outputs": [
    {
     "name": "stdout",
     "output_type": "stream",
     "text": [
      "+------+-----+\n",
      "|method|count|\n",
      "+------+-----+\n",
      "|  POST|24904|\n",
      "|DELETE|24856|\n",
      "|   PUT|25396|\n",
      "|   GET|24844|\n",
      "+------+-----+\n",
      "\n"
     ]
    }
   ],
   "source": [
    "df.\\\n",
    "    groupBy(\"method\").\\\n",
    "    count().\\\n",
    "    show()"
   ]
  },
  {
   "cell_type": "code",
   "execution_count": 21,
   "metadata": {},
   "outputs": [
    {
     "name": "stdout",
     "output_type": "stream",
     "text": [
      "Number of 404 response codes: 24875\n"
     ]
    }
   ],
   "source": [
    "no = df.\\\n",
    "    filter(df[\"response_code\"] == 404).\\\n",
    "    count()\n",
    "print(f\"Number of 404 response codes: {no}\")"
   ]
  },
  {
   "cell_type": "code",
   "execution_count": 30,
   "metadata": {},
   "outputs": [
    {
     "name": "stdout",
     "output_type": "stream",
     "text": [
      "Total response size by day\n",
      "+----------+------------------+\n",
      "|      date|sum(response_size)|\n",
      "+----------+------------------+\n",
      "|2025-01-01|           8834616|\n",
      "|2025-01-02|           8507737|\n",
      "|2025-01-03|           9176402|\n",
      "|2025-01-04|           8868014|\n",
      "|2025-01-05|           8875502|\n",
      "|2025-01-06|           8720938|\n",
      "|2025-01-07|           8661923|\n",
      "|2025-01-08|           8893729|\n",
      "|2025-01-09|           9089994|\n",
      "|2025-01-10|           8337203|\n",
      "+----------+------------------+\n",
      "only showing top 10 rows\n",
      "\n"
     ]
    }
   ],
   "source": [
    "print('Total response size by day')\n",
    "df.\\\n",
    "    withColumn(\"date\", to_date(df[\"timestamp\"])).\\\n",
    "    groupBy(\"date\").\\\n",
    "    sum(\"response_size\").\\\n",
    "    orderBy(\"date\", ascending=True).\\\n",
    "    show(10)"
   ]
  },
  {
   "cell_type": "code",
   "execution_count": null,
   "metadata": {},
   "outputs": [],
   "source": []
  }
 ],
 "metadata": {
  "kernelspec": {
   "display_name": "venv",
   "language": "python",
   "name": "python3"
  },
  "language_info": {
   "codemirror_mode": {
    "name": "ipython",
    "version": 3
   },
   "file_extension": ".py",
   "mimetype": "text/x-python",
   "name": "python",
   "nbconvert_exporter": "python",
   "pygments_lexer": "ipython3",
   "version": "3.13.2"
  }
 },
 "nbformat": 4,
 "nbformat_minor": 2
}
